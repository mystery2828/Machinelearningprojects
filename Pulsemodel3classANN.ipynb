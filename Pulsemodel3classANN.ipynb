{
  "nbformat": 4,
  "nbformat_minor": 0,
  "metadata": {
    "colab": {
      "name": "Pulsemodel3classANN.ipynb",
      "provenance": [],
      "collapsed_sections": [],
      "authorship_tag": "ABX9TyN/08yNu3pwbO0f+ExWVymZ",
      "include_colab_link": true
    },
    "kernelspec": {
      "name": "python3",
      "display_name": "Python 3"
    },
    "accelerator": "GPU"
  },
  "cells": [
    {
      "cell_type": "markdown",
      "metadata": {
        "id": "view-in-github",
        "colab_type": "text"
      },
      "source": [
        "<a href=\"https://colab.research.google.com/github/mystery2828/Machinelearningprojects/blob/master/Pulsemodel3classANN.ipynb\" target=\"_parent\"><img src=\"https://colab.research.google.com/assets/colab-badge.svg\" alt=\"Open In Colab\"/></a>"
      ]
    },
    {
      "cell_type": "markdown",
      "metadata": {
        "id": "qtEsVDAvDT23",
        "colab_type": "text"
      },
      "source": [
        "# Start of model (Pulse 3 class)"
      ]
    },
    {
      "cell_type": "markdown",
      "metadata": {
        "id": "0QECqf78Afk_",
        "colab_type": "text"
      },
      "source": [
        "### Import the Libraries"
      ]
    },
    {
      "cell_type": "code",
      "metadata": {
        "id": "CQXEjBQo2-L9",
        "colab_type": "code",
        "outputId": "3c74540d-164c-446c-adab-10163493ec61",
        "colab": {
          "base_uri": "https://localhost:8080/",
          "height": 165
        }
      },
      "source": [
        "import matplotlib.pyplot as plt\n",
        "import pandas as pd\n",
        "from imblearn.over_sampling import SMOTE\n",
        "from keras.layers import Dense\n",
        "from keras.models import Sequential\n",
        "import seaborn as sns\n",
        "plt.rcParams['axes.grid'] = True"
      ],
      "execution_count": 0,
      "outputs": [
        {
          "output_type": "stream",
          "text": [
            "/usr/local/lib/python3.6/dist-packages/sklearn/externals/six.py:31: FutureWarning: The module is deprecated in version 0.21 and will be removed in version 0.23 since we've dropped support for Python 2.7. Please rely on the official version of six (https://pypi.org/project/six/).\n",
            "  \"(https://pypi.org/project/six/).\", FutureWarning)\n",
            "/usr/local/lib/python3.6/dist-packages/sklearn/utils/deprecation.py:144: FutureWarning: The sklearn.neighbors.base module is  deprecated in version 0.22 and will be removed in version 0.24. The corresponding classes / functions should instead be imported from sklearn.neighbors. Anything that cannot be imported from sklearn.neighbors is now part of the private API.\n",
            "  warnings.warn(message, FutureWarning)\n",
            "Using TensorFlow backend.\n",
            "/usr/local/lib/python3.6/dist-packages/statsmodels/tools/_testing.py:19: FutureWarning: pandas.util.testing is deprecated. Use the functions in the public API at pandas.testing instead.\n",
            "  import pandas.util.testing as tm\n"
          ],
          "name": "stderr"
        }
      ]
    },
    {
      "cell_type": "markdown",
      "metadata": {
        "id": "YeP_yy9PAvEB",
        "colab_type": "text"
      },
      "source": [
        "### Read the dataset"
      ]
    },
    {
      "cell_type": "code",
      "metadata": {
        "id": "RY5epqf9As8w",
        "colab_type": "code",
        "colab": {}
      },
      "source": [
        "# Read the dataset as a dataframe\n",
        "df = pd.read_excel('pulse.xlsx')\n",
        "df.head(5)"
      ],
      "execution_count": 0,
      "outputs": []
    },
    {
      "cell_type": "markdown",
      "metadata": {
        "id": "bNockEbOA2P5",
        "colab_type": "text"
      },
      "source": [
        "### Convert the class names"
      ]
    },
    {
      "cell_type": "code",
      "metadata": {
        "id": "BHUYIz6yA1_Q",
        "colab_type": "code",
        "colab": {}
      },
      "source": [
        "# Convert the classes into 'B','C','M'\n",
        "bcm = df.iloc[:,0]\n",
        "\n",
        "# Seperate the patient ID from dataframe\n",
        "df = df.iloc[:,1:]\n",
        "# Fill all the NaN values\n",
        "df['PHR'] = df['PHR'].fillna(df['PHR'].mean())\n",
        "\n",
        "# Rename the classes\n",
        "for i in range(len(df)):\n",
        "    df.iloc[i,-1] = bcm[i][0]\n",
        "\n",
        "# Split the classes from the dataset and assign it to a variable\n",
        "X = df.iloc[:,:-1]\n",
        "y = df.iloc[:,-1]# Fill all the NaN values\n",
        "df['PHR'] = df['PHR'].fillna(df['PHR'].mean())\n",
        "\n",
        "# Rename the classes\n",
        "for i in range(len(df)):\n",
        "    df.iloc[i,-1] = bcm[i][0]\n"
      ],
      "execution_count": 0,
      "outputs": []
    },
    {
      "cell_type": "markdown",
      "metadata": {
        "id": "j3dSR0DoCHA6",
        "colab_type": "text"
      },
      "source": [
        "### Split the classes as dependent and independent"
      ]
    },
    {
      "cell_type": "code",
      "metadata": {
        "id": "_vzfaXaT3Je-",
        "colab_type": "code",
        "outputId": "334394fe-88a8-4d60-9c9e-59a813d4f7f3",
        "colab": {
          "base_uri": "https://localhost:8080/",
          "height": 269
        }
      },
      "source": [
        "# Split the classes from the dataset and assign it to a variable\n",
        "X = df.iloc[:,:-1]\n",
        "y = df.iloc[:,-1]"
      ],
      "execution_count": 0,
      "outputs": [
        {
          "output_type": "display_data",
          "data": {
            "image/png": "[encoded data removed]",
            "text/plain": [
              "<Figure size 432x288 with 1 Axes>"
            ]
          },
          "metadata": {
            "tags": [],
            "needs_background": "light"
          }
        }
      ]
    },
    {
      "cell_type": "markdown",
      "metadata": {
        "id": "YKVQ00MLCNVm",
        "colab_type": "text"
      },
      "source": [
        "### SMOTE analysis on the data"
      ]
    },
    {
      "cell_type": "code",
      "metadata": {
        "id": "P4aZbuvj3MtA",
        "colab_type": "code",
        "outputId": "bfa35cbf-dd17-4399-ddf9-e82c7e9dc983",
        "colab": {
          "base_uri": "https://localhost:8080/",
          "height": 110
        }
      },
      "source": [
        "col = ['PR', 'PP', 'PT1', 'PT2', 'PT3', 'PDID', 'PHR', 'SVA', 'STRESS',\n",
        "       'RATIO', 'Unnamed: 11']\n",
        "\n",
        "# Synthetic Minority oversampling technique to balance the dataset\n",
        "oversample = SMOTE()\n",
        "X,y = oversample.fit_resample(X,y)"
      ],
      "execution_count": 0,
      "outputs": [
        {
          "output_type": "stream",
          "text": [
            "/usr/local/lib/python3.6/dist-packages/sklearn/utils/deprecation.py:87: FutureWarning: Function safe_indexing is deprecated; safe_indexing is deprecated in version 0.22 and will be removed in version 0.24.\n",
            "  warnings.warn(msg, category=FutureWarning)\n",
            "/usr/local/lib/python3.6/dist-packages/sklearn/utils/deprecation.py:87: FutureWarning: Function safe_indexing is deprecated; safe_indexing is deprecated in version 0.22 and will be removed in version 0.24.\n",
            "  warnings.warn(msg, category=FutureWarning)\n"
          ],
          "name": "stderr"
        }
      ]
    },
    {
      "cell_type": "markdown",
      "metadata": {
        "id": "leL4BJdgCUHe",
        "colab_type": "text"
      },
      "source": [
        "### Scaling the data and Label encoding the data"
      ]
    },
    {
      "cell_type": "code",
      "metadata": {
        "id": "yQRwN0U35buQ",
        "colab_type": "code",
        "colab": {}
      },
      "source": [
        "from sklearn.preprocessing import StandardScaler\n",
        "sc = StandardScaler()\n",
        "X = sc.fit_transform(X)\n",
        "X\n",
        "from sklearn import preprocessing\n",
        "le = preprocessing.LabelEncoder()\n",
        "y = le.fit_transform(y)"
      ],
      "execution_count": 0,
      "outputs": []
    },
    {
      "cell_type": "markdown",
      "metadata": {
        "id": "vTJrG4RqCcls",
        "colab_type": "text"
      },
      "source": [
        "### Train Test split"
      ]
    },
    {
      "cell_type": "code",
      "metadata": {
        "id": "MuyFsa6J7Zch",
        "colab_type": "code",
        "colab": {}
      },
      "source": [
        "from sklearn.model_selection import train_test_split\n",
        "X_train, X_test, y_train, y_test = train_test_split(X, y, test_size=0.3)"
      ],
      "execution_count": 0,
      "outputs": []
    },
    {
      "cell_type": "markdown",
      "metadata": {
        "id": "MJDF7S9XCmIQ",
        "colab_type": "text"
      },
      "source": [
        "### Create a Sequential model"
      ]
    },
    {
      "cell_type": "code",
      "metadata": {
        "id": "t_m8U5YW3U3Q",
        "colab_type": "code",
        "colab": {}
      },
      "source": [
        "classifier = Sequential()\n",
        "#First Hidden Layer\n",
        "classifier.add(Dense(1000, activation='relu', kernel_initializer='random_normal', input_dim=10))\n",
        "#Second  Hidden Layer\n",
        "classifier.add(Dense(500, activation='relu', kernel_initializer='random_normal'))\n",
        "classifier.add(Dense(250, activation='relu', kernel_initializer='random_normal'))\n",
        "classifier.add(Dense(100, activation='relu', kernel_initializer='random_normal'))\n",
        "#Output Layer\n",
        "classifier.add(Dense(10, activation='sigmoid', kernel_initializer='random_normal'))\n"
      ],
      "execution_count": 0,
      "outputs": []
    },
    {
      "cell_type": "markdown",
      "metadata": {
        "id": "eKxICwkJCrAw",
        "colab_type": "text"
      },
      "source": [
        "### Compile the model"
      ]
    },
    {
      "cell_type": "code",
      "metadata": {
        "id": "qczRzexE73c3",
        "colab_type": "code",
        "colab": {}
      },
      "source": [
        "classifier.compile(optimizer ='adam',loss='sparse_categorical_crossentropy', metrics =['accuracy'])"
      ],
      "execution_count": 0,
      "outputs": []
    },
    {
      "cell_type": "markdown",
      "metadata": {
        "id": "6uB1eiBnCy2M",
        "colab_type": "text"
      },
      "source": [
        "### Fit the model"
      ]
    },
    {
      "cell_type": "code",
      "metadata": {
        "id": "3e_7Nmd778JH",
        "colab_type": "code",
        "outputId": "06444212-2858-4f6f-f2a1-79e4b1c70fdb",
        "colab": {
          "base_uri": "https://localhost:8080/",
          "height": 1000
        }
      },
      "source": [
        "classifier.fit(X_train,y_train, batch_size=10, epochs=100)"
      ],
      "execution_count": 0,
      "outputs": [
        {
          "output_type": "stream",
          "text": [
            "Epoch 1/100\n",
            "312/312 [==============================] - 0s 680us/step - loss: 0.0057 - accuracy: 1.0000\n",
            "Epoch 2/100\n",
            "312/312 [==============================] - 0s 313us/step - loss: 0.0522 - accuracy: 0.9872\n",
            "Epoch 3/100\n",
            "312/312 [==============================] - 0s 325us/step - loss: 0.0646 - accuracy: 0.9872\n",
            "Epoch 4/100\n",
            "312/312 [==============================] - 0s 338us/step - loss: 0.0698 - accuracy: 0.9744\n",
            "Epoch 5/100\n",
            "312/312 [==============================] - 0s 327us/step - loss: 0.3330 - accuracy: 0.9615\n",
            "Epoch 6/100\n",
            "312/312 [==============================] - 0s 308us/step - loss: 0.0762 - accuracy: 0.9712\n",
            "Epoch 7/100\n",
            "312/312 [==============================] - 0s 303us/step - loss: 0.0185 - accuracy: 0.9936\n",
            "Epoch 8/100\n",
            "312/312 [==============================] - 0s 294us/step - loss: 0.0287 - accuracy: 0.9840\n",
            "Epoch 9/100\n",
            "312/312 [==============================] - 0s 337us/step - loss: 0.0111 - accuracy: 0.9936\n",
            "Epoch 10/100\n",
            "312/312 [==============================] - 0s 390us/step - loss: 0.0013 - accuracy: 1.0000\n",
            "Epoch 11/100\n",
            "312/312 [==============================] - 0s 318us/step - loss: 4.8829e-04 - accuracy: 1.0000\n",
            "Epoch 12/100\n",
            "312/312 [==============================] - 0s 312us/step - loss: 2.9678e-04 - accuracy: 1.0000\n",
            "Epoch 13/100\n",
            "312/312 [==============================] - 0s 339us/step - loss: 1.9596e-04 - accuracy: 1.0000\n",
            "Epoch 14/100\n",
            "312/312 [==============================] - 0s 308us/step - loss: 1.3756e-04 - accuracy: 1.0000\n",
            "Epoch 15/100\n",
            "312/312 [==============================] - 0s 301us/step - loss: 1.0472e-04 - accuracy: 1.0000\n",
            "Epoch 16/100\n",
            "312/312 [==============================] - 0s 292us/step - loss: 8.4186e-05 - accuracy: 1.0000\n",
            "Epoch 17/100\n",
            "312/312 [==============================] - 0s 295us/step - loss: 6.8689e-05 - accuracy: 1.0000\n",
            "Epoch 18/100\n",
            "312/312 [==============================] - 0s 305us/step - loss: 5.7512e-05 - accuracy: 1.0000\n",
            "Epoch 19/100\n",
            "312/312 [==============================] - 0s 302us/step - loss: 5.1047e-05 - accuracy: 1.0000\n",
            "Epoch 20/100\n",
            "312/312 [==============================] - 0s 320us/step - loss: 4.5447e-05 - accuracy: 1.0000\n",
            "Epoch 21/100\n",
            "312/312 [==============================] - 0s 338us/step - loss: 4.0338e-05 - accuracy: 1.0000\n",
            "Epoch 22/100\n",
            "312/312 [==============================] - 0s 315us/step - loss: 4.0264e-05 - accuracy: 1.0000\n",
            "Epoch 23/100\n",
            "312/312 [==============================] - 0s 310us/step - loss: 3.3108e-05 - accuracy: 1.0000\n",
            "Epoch 24/100\n",
            "312/312 [==============================] - 0s 311us/step - loss: 2.9956e-05 - accuracy: 1.0000\n",
            "Epoch 25/100\n",
            "312/312 [==============================] - 0s 337us/step - loss: 2.8049e-05 - accuracy: 1.0000\n",
            "Epoch 26/100\n",
            "312/312 [==============================] - 0s 302us/step - loss: 2.7156e-05 - accuracy: 1.0000\n",
            "Epoch 27/100\n",
            "312/312 [==============================] - 0s 293us/step - loss: 2.3552e-05 - accuracy: 1.0000\n",
            "Epoch 28/100\n",
            "312/312 [==============================] - 0s 291us/step - loss: 2.3172e-05 - accuracy: 1.0000\n",
            "Epoch 29/100\n",
            "312/312 [==============================] - 0s 295us/step - loss: 2.2239e-05 - accuracy: 1.0000\n",
            "Epoch 30/100\n",
            "312/312 [==============================] - 0s 332us/step - loss: 2.0317e-05 - accuracy: 1.0000\n",
            "Epoch 31/100\n",
            "312/312 [==============================] - 0s 291us/step - loss: 1.7594e-05 - accuracy: 1.0000\n",
            "Epoch 32/100\n",
            "312/312 [==============================] - 0s 306us/step - loss: 1.8733e-05 - accuracy: 1.0000\n",
            "Epoch 33/100\n",
            "312/312 [==============================] - 0s 293us/step - loss: 1.6825e-05 - accuracy: 1.0000\n",
            "Epoch 34/100\n",
            "312/312 [==============================] - 0s 329us/step - loss: 1.4987e-05 - accuracy: 1.0000\n",
            "Epoch 35/100\n",
            "312/312 [==============================] - 0s 312us/step - loss: 1.5509e-05 - accuracy: 1.0000\n",
            "Epoch 36/100\n",
            "312/312 [==============================] - 0s 310us/step - loss: 1.5764e-05 - accuracy: 1.0000\n",
            "Epoch 37/100\n",
            "312/312 [==============================] - 0s 292us/step - loss: 1.3163e-05 - accuracy: 1.0000\n",
            "Epoch 38/100\n",
            "312/312 [==============================] - 0s 293us/step - loss: 1.2916e-05 - accuracy: 1.0000\n",
            "Epoch 39/100\n",
            "312/312 [==============================] - 0s 320us/step - loss: 1.2396e-05 - accuracy: 1.0000\n",
            "Epoch 40/100\n",
            "312/312 [==============================] - 0s 327us/step - loss: 1.1781e-05 - accuracy: 1.0000\n",
            "Epoch 41/100\n",
            "312/312 [==============================] - 0s 295us/step - loss: 1.1106e-05 - accuracy: 1.0000\n",
            "Epoch 42/100\n",
            "312/312 [==============================] - 0s 309us/step - loss: 1.0235e-05 - accuracy: 1.0000\n",
            "Epoch 43/100\n",
            "312/312 [==============================] - 0s 305us/step - loss: 9.4875e-06 - accuracy: 1.0000\n",
            "Epoch 44/100\n",
            "312/312 [==============================] - 0s 333us/step - loss: 1.2166e-05 - accuracy: 1.0000\n",
            "Epoch 45/100\n",
            "312/312 [==============================] - 0s 332us/step - loss: 9.2735e-06 - accuracy: 1.0000\n",
            "Epoch 46/100\n",
            "312/312 [==============================] - 0s 302us/step - loss: 8.0315e-06 - accuracy: 1.0000\n",
            "Epoch 47/100\n",
            "312/312 [==============================] - 0s 315us/step - loss: 7.7487e-06 - accuracy: 1.0000\n",
            "Epoch 48/100\n",
            "312/312 [==============================] - 0s 316us/step - loss: 7.4085e-06 - accuracy: 1.0000\n",
            "Epoch 49/100\n",
            "312/312 [==============================] - 0s 310us/step - loss: 7.1056e-06 - accuracy: 1.0000\n",
            "Epoch 50/100\n",
            "312/312 [==============================] - 0s 322us/step - loss: 6.7011e-06 - accuracy: 1.0000\n",
            "Epoch 51/100\n",
            "312/312 [==============================] - 0s 294us/step - loss: 6.4265e-06 - accuracy: 1.0000\n",
            "Epoch 52/100\n",
            "312/312 [==============================] - 0s 361us/step - loss: 6.4826e-06 - accuracy: 1.0000\n",
            "Epoch 53/100\n",
            "312/312 [==============================] - 0s 298us/step - loss: 5.9449e-06 - accuracy: 1.0000\n",
            "Epoch 54/100\n",
            "312/312 [==============================] - 0s 324us/step - loss: 5.8344e-06 - accuracy: 1.0000\n",
            "Epoch 55/100\n",
            "312/312 [==============================] - 0s 307us/step - loss: 5.6645e-06 - accuracy: 1.0000\n",
            "Epoch 56/100\n",
            "312/312 [==============================] - 0s 309us/step - loss: 5.4147e-06 - accuracy: 1.0000\n",
            "Epoch 57/100\n",
            "312/312 [==============================] - 0s 298us/step - loss: 5.3516e-06 - accuracy: 1.0000\n",
            "Epoch 58/100\n",
            "312/312 [==============================] - 0s 288us/step - loss: 5.0021e-06 - accuracy: 1.0000\n",
            "Epoch 59/100\n",
            "312/312 [==============================] - 0s 301us/step - loss: 4.9685e-06 - accuracy: 1.0000\n",
            "Epoch 60/100\n",
            "312/312 [==============================] - 0s 314us/step - loss: 4.9444e-06 - accuracy: 1.0000\n",
            "Epoch 61/100\n",
            "312/312 [==============================] - 0s 321us/step - loss: 4.8401e-06 - accuracy: 1.0000\n",
            "Epoch 62/100\n",
            "312/312 [==============================] - 0s 301us/step - loss: 4.5189e-06 - accuracy: 1.0000\n",
            "Epoch 63/100\n",
            "312/312 [==============================] - 0s 291us/step - loss: 4.4402e-06 - accuracy: 1.0000\n",
            "Epoch 64/100\n",
            "312/312 [==============================] - 0s 306us/step - loss: 4.3775e-06 - accuracy: 1.0000\n",
            "Epoch 65/100\n",
            "312/312 [==============================] - 0s 312us/step - loss: 4.0922e-06 - accuracy: 1.0000\n",
            "Epoch 66/100\n",
            "312/312 [==============================] - 0s 304us/step - loss: 3.9887e-06 - accuracy: 1.0000\n",
            "Epoch 67/100\n",
            "312/312 [==============================] - 0s 301us/step - loss: 3.9535e-06 - accuracy: 1.0000\n",
            "Epoch 68/100\n",
            "312/312 [==============================] - 0s 292us/step - loss: 3.8064e-06 - accuracy: 1.0000\n",
            "Epoch 69/100\n",
            "312/312 [==============================] - 0s 288us/step - loss: 3.6960e-06 - accuracy: 1.0000\n",
            "Epoch 70/100\n",
            "312/312 [==============================] - 0s 301us/step - loss: 3.5654e-06 - accuracy: 1.0000\n",
            "Epoch 71/100\n",
            "312/312 [==============================] - 0s 307us/step - loss: 3.5696e-06 - accuracy: 1.0000\n",
            "Epoch 72/100\n",
            "312/312 [==============================] - 0s 305us/step - loss: 3.6723e-06 - accuracy: 1.0000\n",
            "Epoch 73/100\n",
            "312/312 [==============================] - 0s 304us/step - loss: 3.3247e-06 - accuracy: 1.0000\n",
            "Epoch 74/100\n",
            "312/312 [==============================] - 0s 300us/step - loss: 3.1284e-06 - accuracy: 1.0000\n",
            "Epoch 75/100\n",
            "312/312 [==============================] - 0s 331us/step - loss: 2.9526e-06 - accuracy: 1.0000\n",
            "Epoch 76/100\n",
            "312/312 [==============================] - 0s 307us/step - loss: 2.8972e-06 - accuracy: 1.0000\n",
            "Epoch 77/100\n",
            "312/312 [==============================] - 0s 301us/step - loss: 2.8128e-06 - accuracy: 1.0000\n",
            "Epoch 78/100\n",
            "312/312 [==============================] - 0s 298us/step - loss: 2.6134e-06 - accuracy: 1.0000\n",
            "Epoch 79/100\n",
            "312/312 [==============================] - 0s 288us/step - loss: 2.6959e-06 - accuracy: 1.0000\n",
            "Epoch 80/100\n",
            "312/312 [==============================] - 0s 302us/step - loss: 2.5030e-06 - accuracy: 1.0000\n",
            "Epoch 81/100\n",
            "312/312 [==============================] - 0s 327us/step - loss: 2.8170e-06 - accuracy: 1.0000\n",
            "Epoch 82/100\n",
            "312/312 [==============================] - 0s 299us/step - loss: 2.5560e-06 - accuracy: 1.0000\n",
            "Epoch 83/100\n",
            "312/312 [==============================] - 0s 301us/step - loss: 2.2844e-06 - accuracy: 1.0000\n",
            "Epoch 84/100\n",
            "312/312 [==============================] - 0s 305us/step - loss: 2.2405e-06 - accuracy: 1.0000\n",
            "Epoch 85/100\n",
            "312/312 [==============================] - 0s 375us/step - loss: 2.1969e-06 - accuracy: 1.0000\n",
            "Epoch 86/100\n",
            "312/312 [==============================] - 0s 288us/step - loss: 2.1507e-06 - accuracy: 1.0000\n",
            "Epoch 87/100\n",
            "312/312 [==============================] - 0s 300us/step - loss: 2.1224e-06 - accuracy: 1.0000\n",
            "Epoch 88/100\n",
            "312/312 [==============================] - 0s 291us/step - loss: 2.0621e-06 - accuracy: 1.0000\n",
            "Epoch 89/100\n",
            "312/312 [==============================] - 0s 318us/step - loss: 2.0391e-06 - accuracy: 1.0000\n",
            "Epoch 90/100\n",
            "312/312 [==============================] - 0s 305us/step - loss: 2.0063e-06 - accuracy: 1.0000\n",
            "Epoch 91/100\n",
            "312/312 [==============================] - 0s 316us/step - loss: 1.9635e-06 - accuracy: 1.0000\n",
            "Epoch 92/100\n",
            "312/312 [==============================] - 0s 299us/step - loss: 1.9134e-06 - accuracy: 1.0000\n",
            "Epoch 93/100\n",
            "312/312 [==============================] - 0s 301us/step - loss: 1.9024e-06 - accuracy: 1.0000\n",
            "Epoch 94/100\n",
            "312/312 [==============================] - 0s 310us/step - loss: 1.8584e-06 - accuracy: 1.0000\n",
            "Epoch 95/100\n",
            "312/312 [==============================] - 0s 300us/step - loss: 1.8412e-06 - accuracy: 1.0000\n",
            "Epoch 96/100\n",
            "312/312 [==============================] - 0s 317us/step - loss: 1.8153e-06 - accuracy: 1.0000\n",
            "Epoch 97/100\n",
            "312/312 [==============================] - 0s 301us/step - loss: 1.7904e-06 - accuracy: 1.0000\n",
            "Epoch 98/100\n",
            "312/312 [==============================] - 0s 311us/step - loss: 1.7694e-06 - accuracy: 1.0000\n",
            "Epoch 99/100\n",
            "312/312 [==============================] - 0s 305us/step - loss: 1.7427e-06 - accuracy: 1.0000\n",
            "Epoch 100/100\n",
            "312/312 [==============================] - 0s 300us/step - loss: 1.7239e-06 - accuracy: 1.0000\n"
          ],
          "name": "stdout"
        },
        {
          "output_type": "execute_result",
          "data": {
            "text/plain": [
              "<keras.callbacks.callbacks.History at 0x7f8af6d64a90>"
            ]
          },
          "metadata": {
            "tags": []
          },
          "execution_count": 40
        }
      ]
    },
    {
      "cell_type": "markdown",
      "metadata": {
        "id": "WnHfKL5dC2vU",
        "colab_type": "text"
      },
      "source": [
        "### Predict and evaluate for efficiency"
      ]
    },
    {
      "cell_type": "code",
      "metadata": {
        "id": "1vRvqmvJ3XvZ",
        "colab_type": "code",
        "outputId": "40bbd74b-b50f-48c4-dab2-b169b644c086",
        "colab": {
          "base_uri": "https://localhost:8080/",
          "height": 90
        }
      },
      "source": [
        "pred_train = classifier.predict(X_train)\n",
        "scores = classifier.evaluate(X_train, y_train)\n",
        "print('Accuracy on training data ',scores[1])\n",
        "\n",
        "pred_test = classifier.predict(X_test)\n",
        "scores2 = classifier.evaluate(X_test, y_test)\n",
        "print('Accuracy on testing data ',scores2[1])"
      ],
      "execution_count": 0,
      "outputs": [
        {
          "output_type": "stream",
          "text": [
            "312/312 [==============================] - 0s 113us/step\n",
            "Accuracy on training data  1.0\n",
            "135/135 [==============================] - 0s 66us/step\n",
            "Accuracy on testing data  0.9185185432434082\n"
          ],
          "name": "stdout"
        }
      ]
    },
    {
      "cell_type": "markdown",
      "metadata": {
        "id": "Dl0xkBS5C8cg",
        "colab_type": "text"
      },
      "source": [
        "# End of model"
      ]
    }
  ]
}