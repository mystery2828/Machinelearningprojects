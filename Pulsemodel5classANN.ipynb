{
  "nbformat": 4,
  "nbformat_minor": 0,
  "metadata": {
    "colab": {
      "name": "Pulsemodel5classANN.ipynb",
      "provenance": [],
      "collapsed_sections": [],
      "authorship_tag": "ABX9TyPRvmRWfEkWg75EXKBNszjN",
      "include_colab_link": true
    },
    "kernelspec": {
      "name": "python3",
      "display_name": "Python 3"
    },
    "accelerator": "GPU"
  },
  "cells": [
    {
      "cell_type": "markdown",
      "metadata": {
        "id": "view-in-github",
        "colab_type": "text"
      },
      "source": [
        "<a href=\"https://colab.research.google.com/github/mystery2828/Machinelearningprojects/blob/master/Pulsemodel5classANN.ipynb\" target=\"_parent\"><img src=\"https://colab.research.google.com/assets/colab-badge.svg\" alt=\"Open In Colab\"/></a>"
      ]
    },
    {
      "cell_type": "markdown",
      "metadata": {
        "id": "qtEsVDAvDT23",
        "colab_type": "text"
      },
      "source": [
        "# Start of model (Pulse 5 class)"
      ]
    },
    {
      "cell_type": "markdown",
      "metadata": {
        "id": "tAT4LkzoFRVm",
        "colab_type": "text"
      },
      "source": [
        "### Install the Libraries"
      ]
    },
    {
      "cell_type": "code",
      "metadata": {
        "id": "rAV_tOx-FKQ-",
        "colab_type": "code",
        "colab": {}
      },
      "source": [
        "import sys\n",
        "!{sys.executable} -m pip install numpy\n",
        "!{sys.executable} -m pip install imbalanced-learn\n",
        "!{sys.executable} -m pip install pandas\n",
        "!{sys.executable} -m pip install numpy\n",
        "!{sys.executable} -m pip install scikit-learn\n",
        "!{sys.executable} -m pip install keras\n",
        "!{sys.executable} -m pip install tensorflow"
      ],
      "execution_count": 0,
      "outputs": []
    },
    {
      "cell_type": "markdown",
      "metadata": {
        "id": "0QECqf78Afk_",
        "colab_type": "text"
      },
      "source": [
        "### Import the Libraries"
      ]
    },
    {
      "cell_type": "code",
      "metadata": {
        "id": "CQXEjBQo2-L9",
        "colab_type": "code",
        "outputId": "d90bcc30-3387-4972-efc5-0475c71bcc00",
        "colab": {
          "base_uri": "https://localhost:8080/",
          "height": 165
        }
      },
      "source": [
        "import matplotlib.pyplot as plt\n",
        "import pandas as pd\n",
        "from imblearn.over_sampling import SMOTE\n",
        "from keras.layers import Dense\n",
        "from keras.models import Sequential\n",
        "import seaborn as sns\n",
        "plt.rcParams['axes.grid'] = True"
      ],
      "execution_count": 1,
      "outputs": [
        {
          "output_type": "stream",
          "text": [
            "/usr/local/lib/python3.6/dist-packages/sklearn/externals/six.py:31: FutureWarning: The module is deprecated in version 0.21 and will be removed in version 0.23 since we've dropped support for Python 2.7. Please rely on the official version of six (https://pypi.org/project/six/).\n",
            "  \"(https://pypi.org/project/six/).\", FutureWarning)\n",
            "/usr/local/lib/python3.6/dist-packages/sklearn/utils/deprecation.py:144: FutureWarning: The sklearn.neighbors.base module is  deprecated in version 0.22 and will be removed in version 0.24. The corresponding classes / functions should instead be imported from sklearn.neighbors. Anything that cannot be imported from sklearn.neighbors is now part of the private API.\n",
            "  warnings.warn(message, FutureWarning)\n",
            "Using TensorFlow backend.\n",
            "/usr/local/lib/python3.6/dist-packages/statsmodels/tools/_testing.py:19: FutureWarning: pandas.util.testing is deprecated. Use the functions in the public API at pandas.testing instead.\n",
            "  import pandas.util.testing as tm\n"
          ],
          "name": "stderr"
        }
      ]
    },
    {
      "cell_type": "markdown",
      "metadata": {
        "id": "YeP_yy9PAvEB",
        "colab_type": "text"
      },
      "source": [
        "### Read the dataset"
      ]
    },
    {
      "cell_type": "code",
      "metadata": {
        "id": "RY5epqf9As8w",
        "colab_type": "code",
        "outputId": "686b9235-0a60-4411-8b5b-4c0775d194af",
        "colab": {
          "base_uri": "https://localhost:8080/",
          "height": 198
        }
      },
      "source": [
        "# Read the dataset as a dataframe\n",
        "df = pd.read_excel('pulse.xlsx')\n",
        "df.head(5)"
      ],
      "execution_count": 3,
      "outputs": [
        {
          "output_type": "execute_result",
          "data": {
            "text/html": [
              "<div>\n",
              "<style scoped>\n",
              "    .dataframe tbody tr th:only-of-type {\n",
              "        vertical-align: middle;\n",
              "    }\n",
              "\n",
              "    .dataframe tbody tr th {\n",
              "        vertical-align: top;\n",
              "    }\n",
              "\n",
              "    .dataframe thead th {\n",
              "        text-align: right;\n",
              "    }\n",
              "</style>\n",
              "<table border=\"1\" class=\"dataframe\">\n",
              "  <thead>\n",
              "    <tr style=\"text-align: right;\">\n",
              "      <th></th>\n",
              "      <th>Unnamed: 0</th>\n",
              "      <th>PR</th>\n",
              "      <th>PP</th>\n",
              "      <th>PT1</th>\n",
              "      <th>PT2</th>\n",
              "      <th>PT3</th>\n",
              "      <th>PDID</th>\n",
              "      <th>PHR</th>\n",
              "      <th>SVA</th>\n",
              "      <th>STRESS</th>\n",
              "      <th>RATIO</th>\n",
              "      <th>Unnamed: 11</th>\n",
              "    </tr>\n",
              "  </thead>\n",
              "  <tbody>\n",
              "    <tr>\n",
              "      <th>0</th>\n",
              "      <td>C401</td>\n",
              "      <td>0.812959</td>\n",
              "      <td>0.824135</td>\n",
              "      <td>0.243374</td>\n",
              "      <td>0.526769</td>\n",
              "      <td>0.283395</td>\n",
              "      <td>0.012436</td>\n",
              "      <td>75.0</td>\n",
              "      <td>69.921786</td>\n",
              "      <td>1.037138</td>\n",
              "      <td>3.501733</td>\n",
              "      <td>1</td>\n",
              "    </tr>\n",
              "    <tr>\n",
              "      <th>1</th>\n",
              "      <td>C402</td>\n",
              "      <td>0.845954</td>\n",
              "      <td>0.747754</td>\n",
              "      <td>0.140305</td>\n",
              "      <td>0.348656</td>\n",
              "      <td>0.208351</td>\n",
              "      <td>0.464244</td>\n",
              "      <td>74.0</td>\n",
              "      <td>48.832606</td>\n",
              "      <td>1.218822</td>\n",
              "      <td>5.513958</td>\n",
              "      <td>1</td>\n",
              "    </tr>\n",
              "    <tr>\n",
              "      <th>2</th>\n",
              "      <td>C403</td>\n",
              "      <td>0.870881</td>\n",
              "      <td>0.612590</td>\n",
              "      <td>0.290799</td>\n",
              "      <td>0.550933</td>\n",
              "      <td>0.260134</td>\n",
              "      <td>0.168164</td>\n",
              "      <td>70.0</td>\n",
              "      <td>59.273583</td>\n",
              "      <td>1.439769</td>\n",
              "      <td>2.168398</td>\n",
              "      <td>1</td>\n",
              "    </tr>\n",
              "    <tr>\n",
              "      <th>3</th>\n",
              "      <td>C404</td>\n",
              "      <td>0.993293</td>\n",
              "      <td>0.491175</td>\n",
              "      <td>0.389590</td>\n",
              "      <td>0.700164</td>\n",
              "      <td>0.310574</td>\n",
              "      <td>0.009515</td>\n",
              "      <td>61.0</td>\n",
              "      <td>145.568237</td>\n",
              "      <td>0.708102</td>\n",
              "      <td>4.796764</td>\n",
              "      <td>1</td>\n",
              "    </tr>\n",
              "    <tr>\n",
              "      <th>4</th>\n",
              "      <td>C405</td>\n",
              "      <td>0.802703</td>\n",
              "      <td>0.582300</td>\n",
              "      <td>0.141758</td>\n",
              "      <td>0.370029</td>\n",
              "      <td>0.228271</td>\n",
              "      <td>0.245060</td>\n",
              "      <td>76.0</td>\n",
              "      <td>35.335561</td>\n",
              "      <td>1.417359</td>\n",
              "      <td>4.138236</td>\n",
              "      <td>1</td>\n",
              "    </tr>\n",
              "  </tbody>\n",
              "</table>\n",
              "</div>"
            ],
            "text/plain": [
              "  Unnamed: 0        PR        PP  ...    STRESS     RATIO  Unnamed: 11\n",
              "0       C401  0.812959  0.824135  ...  1.037138  3.501733            1\n",
              "1       C402  0.845954  0.747754  ...  1.218822  5.513958            1\n",
              "2       C403  0.870881  0.612590  ...  1.439769  2.168398            1\n",
              "3       C404  0.993293  0.491175  ...  0.708102  4.796764            1\n",
              "4       C405  0.802703  0.582300  ...  1.417359  4.138236            1\n",
              "\n",
              "[5 rows x 12 columns]"
            ]
          },
          "metadata": {
            "tags": []
          },
          "execution_count": 3
        }
      ]
    },
    {
      "cell_type": "markdown",
      "metadata": {
        "id": "bNockEbOA2P5",
        "colab_type": "text"
      },
      "source": [
        "### Convert the class names"
      ]
    },
    {
      "cell_type": "code",
      "metadata": {
        "id": "BHUYIz6yA1_Q",
        "colab_type": "code",
        "colab": {}
      },
      "source": [
        "# Convert the classes into 'B','C','M'\n",
        "bcm = df.iloc[:,0]\n",
        "\n",
        "# Seperate the patient ID from dataframe\n",
        "df = df.iloc[:,1:]\n",
        "# Fill all the NaN values\n",
        "df['PHR'] = df['PHR'].fillna(df['PHR'].mean())\n",
        "\n",
        "# Rename the classes\n",
        "for i in range(len(df)):\n",
        "    df.iloc[i,-1] = bcm[i][0]\n",
        "\n",
        "# Split the classes from the dataset and assign it to a variable\n",
        "X = df.iloc[:,:-1]\n",
        "y = df.iloc[:,-1]# Fill all the NaN values\n",
        "df['PHR'] = df['PHR'].fillna(df['PHR'].mean())\n",
        "\n",
        "# Rename the classes\n",
        "# for i in range(len(df)):\n",
        "#     df.iloc[i,-1] = bcm[i][0]\n"
      ],
      "execution_count": 0,
      "outputs": []
    },
    {
      "cell_type": "markdown",
      "metadata": {
        "id": "j3dSR0DoCHA6",
        "colab_type": "text"
      },
      "source": [
        "### Split the classes as dependent and independent"
      ]
    },
    {
      "cell_type": "code",
      "metadata": {
        "id": "_vzfaXaT3Je-",
        "colab_type": "code",
        "colab": {}
      },
      "source": [
        "# Split the classes from the dataset and assign it to a variable\n",
        "X = df.iloc[:,:-1]\n",
        "y = df.iloc[:,-1]"
      ],
      "execution_count": 0,
      "outputs": []
    },
    {
      "cell_type": "markdown",
      "metadata": {
        "id": "YKVQ00MLCNVm",
        "colab_type": "text"
      },
      "source": [
        "### SMOTE analysis on the data"
      ]
    },
    {
      "cell_type": "code",
      "metadata": {
        "id": "P4aZbuvj3MtA",
        "colab_type": "code",
        "colab": {
          "base_uri": "https://localhost:8080/",
          "height": 110
        },
        "outputId": "6cd46651-5d09-47e2-b611-cc3b43d369f5"
      },
      "source": [
        "col = ['PR', 'PP', 'PT1', 'PT2', 'PT3', 'PDID', 'PHR', 'SVA', 'STRESS',\n",
        "       'RATIO', 'Unnamed: 11']\n",
        "\n",
        "# Synthetic Minority oversampling technique to balance the dataset\n",
        "oversample = SMOTE()\n",
        "X,y = oversample.fit_resample(X,y)"
      ],
      "execution_count": 6,
      "outputs": [
        {
          "output_type": "stream",
          "text": [
            "/usr/local/lib/python3.6/dist-packages/sklearn/utils/deprecation.py:87: FutureWarning: Function safe_indexing is deprecated; safe_indexing is deprecated in version 0.22 and will be removed in version 0.24.\n",
            "  warnings.warn(msg, category=FutureWarning)\n",
            "/usr/local/lib/python3.6/dist-packages/sklearn/utils/deprecation.py:87: FutureWarning: Function safe_indexing is deprecated; safe_indexing is deprecated in version 0.22 and will be removed in version 0.24.\n",
            "  warnings.warn(msg, category=FutureWarning)\n"
          ],
          "name": "stderr"
        }
      ]
    },
    {
      "cell_type": "markdown",
      "metadata": {
        "id": "leL4BJdgCUHe",
        "colab_type": "text"
      },
      "source": [
        "### Scaling the data and Label encoding the data"
      ]
    },
    {
      "cell_type": "code",
      "metadata": {
        "id": "yQRwN0U35buQ",
        "colab_type": "code",
        "colab": {}
      },
      "source": [
        "from sklearn.preprocessing import StandardScaler\n",
        "sc = StandardScaler()\n",
        "X = sc.fit_transform(X)\n",
        "X\n",
        "from sklearn import preprocessing\n",
        "le = preprocessing.LabelEncoder()\n",
        "y = le.fit_transform(y)"
      ],
      "execution_count": 0,
      "outputs": []
    },
    {
      "cell_type": "markdown",
      "metadata": {
        "id": "vTJrG4RqCcls",
        "colab_type": "text"
      },
      "source": [
        "### Train Test split"
      ]
    },
    {
      "cell_type": "code",
      "metadata": {
        "id": "MuyFsa6J7Zch",
        "colab_type": "code",
        "colab": {}
      },
      "source": [
        "from sklearn.model_selection import train_test_split\n",
        "X_train, X_test, y_train, y_test = train_test_split(X, y, test_size=0.3)"
      ],
      "execution_count": 0,
      "outputs": []
    },
    {
      "cell_type": "markdown",
      "metadata": {
        "id": "MJDF7S9XCmIQ",
        "colab_type": "text"
      },
      "source": [
        "### Create a Sequential model"
      ]
    },
    {
      "cell_type": "code",
      "metadata": {
        "id": "t_m8U5YW3U3Q",
        "colab_type": "code",
        "colab": {}
      },
      "source": [
        "classifier = Sequential()\n",
        "#First Hidden Layer\n",
        "# classifier.add(Dense(1000, activation='relu', kernel_initializer='random_normal', input_dim=10))\n",
        "#Second  Hidden Layer\n",
        "classifier.add(Dense(500, activation='relu', kernel_initializer='random_normal'))\n",
        "classifier.add(Dense(250, activation='relu', kernel_initializer='random_normal'))\n",
        "classifier.add(Dense(50, activation='relu', kernel_initializer='random_normal'))\n",
        "\n",
        "#Output Layer\n",
        "classifier.add(Dense(10, activation='sigmoid', kernel_initializer='random_normal'))\n"
      ],
      "execution_count": 0,
      "outputs": []
    },
    {
      "cell_type": "markdown",
      "metadata": {
        "id": "eKxICwkJCrAw",
        "colab_type": "text"
      },
      "source": [
        "### Compile the model"
      ]
    },
    {
      "cell_type": "code",
      "metadata": {
        "id": "qczRzexE73c3",
        "colab_type": "code",
        "colab": {}
      },
      "source": [
        "classifier.compile(optimizer ='adam',loss='sparse_categorical_crossentropy', metrics =['accuracy'])"
      ],
      "execution_count": 0,
      "outputs": []
    },
    {
      "cell_type": "markdown",
      "metadata": {
        "id": "6uB1eiBnCy2M",
        "colab_type": "text"
      },
      "source": [
        "### Fit the model"
      ]
    },
    {
      "cell_type": "code",
      "metadata": {
        "id": "3e_7Nmd778JH",
        "colab_type": "code",
        "outputId": "d6f680a9-c663-4bc0-b705-40b7b068f4eb",
        "colab": {
          "base_uri": "https://localhost:8080/",
          "height": 1000
        }
      },
      "source": [
        "classifier.fit(X_train,y_train, batch_size=10, epochs=100)"
      ],
      "execution_count": 20,
      "outputs": [
        {
          "output_type": "stream",
          "text": [
            "Epoch 1/100\n",
            "312/312 [==============================] - 0s 805us/step - loss: 1.7956 - accuracy: 0.3301\n",
            "Epoch 2/100\n",
            "312/312 [==============================] - 0s 415us/step - loss: 1.0717 - accuracy: 0.3365\n",
            "Epoch 3/100\n",
            "312/312 [==============================] - 0s 428us/step - loss: 1.0022 - accuracy: 0.3365\n",
            "Epoch 4/100\n",
            "312/312 [==============================] - 0s 429us/step - loss: 0.9769 - accuracy: 0.3365\n",
            "Epoch 5/100\n",
            "312/312 [==============================] - 0s 417us/step - loss: 0.9776 - accuracy: 0.3365\n",
            "Epoch 6/100\n",
            "312/312 [==============================] - 0s 433us/step - loss: 0.9576 - accuracy: 0.3365\n",
            "Epoch 7/100\n",
            "312/312 [==============================] - 0s 411us/step - loss: 0.9500 - accuracy: 0.3365\n",
            "Epoch 8/100\n",
            "312/312 [==============================] - 0s 468us/step - loss: 0.9437 - accuracy: 0.3365\n",
            "Epoch 9/100\n",
            "312/312 [==============================] - 0s 425us/step - loss: 0.9355 - accuracy: 0.3365\n",
            "Epoch 10/100\n",
            "312/312 [==============================] - 0s 430us/step - loss: 0.9403 - accuracy: 0.3429\n",
            "Epoch 11/100\n",
            "312/312 [==============================] - 0s 418us/step - loss: 0.8592 - accuracy: 0.4135\n",
            "Epoch 12/100\n",
            "312/312 [==============================] - 0s 412us/step - loss: 0.8044 - accuracy: 0.4038\n",
            "Epoch 13/100\n",
            "312/312 [==============================] - 0s 416us/step - loss: 0.7821 - accuracy: 0.4327\n",
            "Epoch 14/100\n",
            "312/312 [==============================] - 0s 412us/step - loss: 0.7813 - accuracy: 0.4423\n",
            "Epoch 15/100\n",
            "312/312 [==============================] - 0s 436us/step - loss: 0.7543 - accuracy: 0.3974\n",
            "Epoch 16/100\n",
            "312/312 [==============================] - 0s 448us/step - loss: 0.7514 - accuracy: 0.3558\n",
            "Epoch 17/100\n",
            "312/312 [==============================] - 0s 413us/step - loss: 0.7335 - accuracy: 0.3462\n",
            "Epoch 18/100\n",
            "312/312 [==============================] - 0s 441us/step - loss: 0.7346 - accuracy: 0.3365\n",
            "Epoch 19/100\n",
            "312/312 [==============================] - 0s 433us/step - loss: 0.7437 - accuracy: 0.3333\n",
            "Epoch 20/100\n",
            "312/312 [==============================] - 0s 493us/step - loss: 0.7300 - accuracy: 0.3301\n",
            "Epoch 21/100\n",
            "312/312 [==============================] - 0s 437us/step - loss: 0.7170 - accuracy: 0.3365\n",
            "Epoch 22/100\n",
            "312/312 [==============================] - 0s 461us/step - loss: 0.7330 - accuracy: 0.3365\n",
            "Epoch 23/100\n",
            "312/312 [==============================] - 0s 455us/step - loss: 0.7047 - accuracy: 0.3365\n",
            "Epoch 24/100\n",
            "312/312 [==============================] - 0s 450us/step - loss: 0.6977 - accuracy: 0.3365\n",
            "Epoch 25/100\n",
            "312/312 [==============================] - 0s 450us/step - loss: 0.6979 - accuracy: 0.3365\n",
            "Epoch 26/100\n",
            "312/312 [==============================] - 0s 501us/step - loss: 0.6949 - accuracy: 0.3365\n",
            "Epoch 27/100\n",
            "312/312 [==============================] - 0s 450us/step - loss: 0.6852 - accuracy: 0.3397\n",
            "Epoch 28/100\n",
            "312/312 [==============================] - 0s 424us/step - loss: 0.6950 - accuracy: 0.3365\n",
            "Epoch 29/100\n",
            "312/312 [==============================] - 0s 452us/step - loss: 0.6900 - accuracy: 0.3397\n",
            "Epoch 30/100\n",
            "312/312 [==============================] - 0s 441us/step - loss: 0.7852 - accuracy: 0.3846\n",
            "Epoch 31/100\n",
            "312/312 [==============================] - 0s 432us/step - loss: 0.7707 - accuracy: 0.4135\n",
            "Epoch 32/100\n",
            "312/312 [==============================] - 0s 437us/step - loss: 0.6971 - accuracy: 0.3462\n",
            "Epoch 33/100\n",
            "312/312 [==============================] - 0s 492us/step - loss: 0.6898 - accuracy: 0.3718\n",
            "Epoch 34/100\n",
            "312/312 [==============================] - 0s 453us/step - loss: 0.6785 - accuracy: 0.3654\n",
            "Epoch 35/100\n",
            "312/312 [==============================] - 0s 445us/step - loss: 0.6723 - accuracy: 0.3782\n",
            "Epoch 36/100\n",
            "312/312 [==============================] - 0s 469us/step - loss: 0.6740 - accuracy: 0.3878\n",
            "Epoch 37/100\n",
            "312/312 [==============================] - 0s 480us/step - loss: 0.6644 - accuracy: 0.3654\n",
            "Epoch 38/100\n",
            "312/312 [==============================] - 0s 436us/step - loss: 0.6521 - accuracy: 0.3878\n",
            "Epoch 39/100\n",
            "312/312 [==============================] - 0s 430us/step - loss: 0.6423 - accuracy: 0.3814\n",
            "Epoch 40/100\n",
            "312/312 [==============================] - 0s 425us/step - loss: 0.6316 - accuracy: 0.3718\n",
            "Epoch 41/100\n",
            "312/312 [==============================] - 0s 424us/step - loss: 0.6311 - accuracy: 0.3718\n",
            "Epoch 42/100\n",
            "312/312 [==============================] - 0s 427us/step - loss: 0.6307 - accuracy: 0.3718\n",
            "Epoch 43/100\n",
            "312/312 [==============================] - 0s 432us/step - loss: 0.6374 - accuracy: 0.3846\n",
            "Epoch 44/100\n",
            "312/312 [==============================] - 0s 479us/step - loss: 0.6333 - accuracy: 0.3910\n",
            "Epoch 45/100\n",
            "312/312 [==============================] - 0s 425us/step - loss: 0.6245 - accuracy: 0.3878\n",
            "Epoch 46/100\n",
            "312/312 [==============================] - 0s 459us/step - loss: 0.6215 - accuracy: 0.3622\n",
            "Epoch 47/100\n",
            "312/312 [==============================] - 0s 422us/step - loss: 0.6212 - accuracy: 0.3782\n",
            "Epoch 48/100\n",
            "312/312 [==============================] - 0s 405us/step - loss: 0.6123 - accuracy: 0.3750\n",
            "Epoch 49/100\n",
            "312/312 [==============================] - 0s 419us/step - loss: 0.6229 - accuracy: 0.3750\n",
            "Epoch 50/100\n",
            "312/312 [==============================] - 0s 415us/step - loss: 0.6363 - accuracy: 0.3750\n",
            "Epoch 51/100\n",
            "312/312 [==============================] - 0s 474us/step - loss: 0.6290 - accuracy: 0.3942\n",
            "Epoch 52/100\n",
            "312/312 [==============================] - 0s 415us/step - loss: 0.6362 - accuracy: 0.3654\n",
            "Epoch 53/100\n",
            "312/312 [==============================] - 0s 454us/step - loss: 0.6146 - accuracy: 0.3686\n",
            "Epoch 54/100\n",
            "312/312 [==============================] - 0s 430us/step - loss: 0.6034 - accuracy: 0.3718\n",
            "Epoch 55/100\n",
            "312/312 [==============================] - 0s 420us/step - loss: 0.6022 - accuracy: 0.3814\n",
            "Epoch 56/100\n",
            "312/312 [==============================] - 0s 418us/step - loss: 0.5962 - accuracy: 0.3846\n",
            "Epoch 57/100\n",
            "312/312 [==============================] - 0s 429us/step - loss: 0.5924 - accuracy: 0.3814\n",
            "Epoch 58/100\n",
            "312/312 [==============================] - 0s 458us/step - loss: 0.5877 - accuracy: 0.3686\n",
            "Epoch 59/100\n",
            "312/312 [==============================] - 0s 452us/step - loss: 0.6003 - accuracy: 0.3718\n",
            "Epoch 60/100\n",
            "312/312 [==============================] - 0s 419us/step - loss: 0.5931 - accuracy: 0.3718\n",
            "Epoch 61/100\n",
            "312/312 [==============================] - 0s 447us/step - loss: 0.5846 - accuracy: 0.3782\n",
            "Epoch 62/100\n",
            "312/312 [==============================] - 0s 428us/step - loss: 0.5823 - accuracy: 0.3622\n",
            "Epoch 63/100\n",
            "312/312 [==============================] - 0s 411us/step - loss: 0.6001 - accuracy: 0.3686\n",
            "Epoch 64/100\n",
            "312/312 [==============================] - 0s 413us/step - loss: 0.6153 - accuracy: 0.3750\n",
            "Epoch 65/100\n",
            "312/312 [==============================] - 0s 429us/step - loss: 0.6224 - accuracy: 0.3846\n",
            "Epoch 66/100\n",
            "312/312 [==============================] - 0s 505us/step - loss: 0.6022 - accuracy: 0.4135\n",
            "Epoch 67/100\n",
            "312/312 [==============================] - 0s 423us/step - loss: 0.5918 - accuracy: 0.4006\n",
            "Epoch 68/100\n",
            "312/312 [==============================] - 0s 448us/step - loss: 0.5923 - accuracy: 0.4071\n",
            "Epoch 69/100\n",
            "312/312 [==============================] - 0s 418us/step - loss: 0.6171 - accuracy: 0.4006\n",
            "Epoch 70/100\n",
            "312/312 [==============================] - 0s 417us/step - loss: 0.5905 - accuracy: 0.3814\n",
            "Epoch 71/100\n",
            "312/312 [==============================] - 0s 420us/step - loss: 0.5730 - accuracy: 0.3846\n",
            "Epoch 72/100\n",
            "312/312 [==============================] - 0s 415us/step - loss: 0.5740 - accuracy: 0.4006\n",
            "Epoch 73/100\n",
            "312/312 [==============================] - 0s 460us/step - loss: 0.5692 - accuracy: 0.4038\n",
            "Epoch 74/100\n",
            "312/312 [==============================] - 0s 466us/step - loss: 0.5673 - accuracy: 0.4038\n",
            "Epoch 75/100\n",
            "312/312 [==============================] - 0s 426us/step - loss: 0.5658 - accuracy: 0.4071\n",
            "Epoch 76/100\n",
            "312/312 [==============================] - 0s 417us/step - loss: 0.5756 - accuracy: 0.4103\n",
            "Epoch 77/100\n",
            "312/312 [==============================] - 0s 423us/step - loss: 0.6464 - accuracy: 0.4359\n",
            "Epoch 78/100\n",
            "312/312 [==============================] - 0s 430us/step - loss: 0.6294 - accuracy: 0.4487\n",
            "Epoch 79/100\n",
            "312/312 [==============================] - 0s 430us/step - loss: 0.6129 - accuracy: 0.4359\n",
            "Epoch 80/100\n",
            "312/312 [==============================] - 0s 510us/step - loss: 0.5923 - accuracy: 0.4647\n",
            "Epoch 81/100\n",
            "312/312 [==============================] - 0s 447us/step - loss: 0.5883 - accuracy: 0.4487\n",
            "Epoch 82/100\n",
            "312/312 [==============================] - 0s 443us/step - loss: 0.5854 - accuracy: 0.4487\n",
            "Epoch 83/100\n",
            "312/312 [==============================] - 0s 438us/step - loss: 0.5803 - accuracy: 0.4519\n",
            "Epoch 84/100\n",
            "312/312 [==============================] - 0s 446us/step - loss: 0.5652 - accuracy: 0.4808\n",
            "Epoch 85/100\n",
            "312/312 [==============================] - 0s 437us/step - loss: 0.5676 - accuracy: 0.4679\n",
            "Epoch 86/100\n",
            "312/312 [==============================] - 0s 443us/step - loss: 0.5612 - accuracy: 0.4647\n",
            "Epoch 87/100\n",
            "312/312 [==============================] - 0s 520us/step - loss: 0.5315 - accuracy: 0.6186\n",
            "Epoch 88/100\n",
            "312/312 [==============================] - 0s 443us/step - loss: 0.4905 - accuracy: 0.6250\n",
            "Epoch 89/100\n",
            "312/312 [==============================] - 0s 448us/step - loss: 0.4106 - accuracy: 0.6538\n",
            "Epoch 90/100\n",
            "312/312 [==============================] - 0s 437us/step - loss: 0.4370 - accuracy: 0.7468\n",
            "Epoch 91/100\n",
            "312/312 [==============================] - 0s 440us/step - loss: 0.3990 - accuracy: 0.8397\n",
            "Epoch 92/100\n",
            "312/312 [==============================] - 0s 440us/step - loss: 0.3153 - accuracy: 0.8526\n",
            "Epoch 93/100\n",
            "312/312 [==============================] - 0s 435us/step - loss: 0.2517 - accuracy: 0.8590\n",
            "Epoch 94/100\n",
            "312/312 [==============================] - 0s 473us/step - loss: 0.4191 - accuracy: 0.8333\n",
            "Epoch 95/100\n",
            "312/312 [==============================] - 0s 437us/step - loss: 0.2133 - accuracy: 0.8686\n",
            "Epoch 96/100\n",
            "312/312 [==============================] - 0s 435us/step - loss: 0.1727 - accuracy: 0.8654\n",
            "Epoch 97/100\n",
            "312/312 [==============================] - 0s 428us/step - loss: 0.1472 - accuracy: 0.8718\n",
            "Epoch 98/100\n",
            "312/312 [==============================] - 0s 446us/step - loss: 0.1386 - accuracy: 0.8782\n",
            "Epoch 99/100\n",
            "312/312 [==============================] - 0s 420us/step - loss: 0.1334 - accuracy: 0.8782\n",
            "Epoch 100/100\n",
            "312/312 [==============================] - 0s 424us/step - loss: 0.1247 - accuracy: 0.8782\n"
          ],
          "name": "stdout"
        },
        {
          "output_type": "execute_result",
          "data": {
            "text/plain": [
              "<keras.callbacks.callbacks.History at 0x7ff70022acf8>"
            ]
          },
          "metadata": {
            "tags": []
          },
          "execution_count": 20
        }
      ]
    },
    {
      "cell_type": "markdown",
      "metadata": {
        "id": "WnHfKL5dC2vU",
        "colab_type": "text"
      },
      "source": [
        "### Predict and evaluate for efficiency"
      ]
    },
    {
      "cell_type": "code",
      "metadata": {
        "id": "1vRvqmvJ3XvZ",
        "colab_type": "code",
        "outputId": "3b6c34a9-0358-4d20-d448-1c5ec2b31b71",
        "colab": {
          "base_uri": "https://localhost:8080/",
          "height": 90
        }
      },
      "source": [
        "pred_train = classifier.predict(X_train)\n",
        "scores = classifier.evaluate(X_train, y_train)\n",
        "print('Accuracy on training data ',scores[1])\n",
        "pred_test = classifier.predict(X_test)\n",
        "scores2 = classifier.evaluate(X_test, y_test)\n",
        "print('Accuracy on testing data ',scores2[1])\n",
        "# print(pred_test)"
      ],
      "execution_count": 22,
      "outputs": [
        {
          "output_type": "stream",
          "text": [
            "312/312 [==============================] - 0s 70us/step\n",
            "Accuracy on training data  0.8782051205635071\n",
            "135/135 [==============================] - 0s 122us/step\n",
            "Accuracy on testing data  0.8148148059844971\n"
          ],
          "name": "stdout"
        }
      ]
    },
    {
      "cell_type": "markdown",
      "metadata": {
        "id": "Dl0xkBS5C8cg",
        "colab_type": "text"
      },
      "source": [
        "# End of model"
      ]
    }
  ]
}
